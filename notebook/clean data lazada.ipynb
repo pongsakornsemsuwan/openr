{
 "cells": [
  {
   "cell_type": "code",
   "execution_count": 1,
   "metadata": {
    "collapsed": true
   },
   "outputs": [],
   "source": [
    "import pandas as pd"
   ]
  },
  {
   "cell_type": "code",
   "execution_count": 2,
   "metadata": {
    "collapsed": true
   },
   "outputs": [],
   "source": [
    "productDF = pd.read_csv('../data/lazada/product.csv')\n",
    "reviewDF = pd.read_csv('../data/lazada/review.csv')"
   ]
  },
  {
   "cell_type": "code",
   "execution_count": 3,
   "metadata": {},
   "outputs": [
    {
     "data": {
      "text/html": [
       "<div>\n",
       "<style>\n",
       "    .dataframe thead tr:only-child th {\n",
       "        text-align: right;\n",
       "    }\n",
       "\n",
       "    .dataframe thead th {\n",
       "        text-align: left;\n",
       "    }\n",
       "\n",
       "    .dataframe tbody tr th {\n",
       "        vertical-align: top;\n",
       "    }\n",
       "</style>\n",
       "<table border=\"1\" class=\"dataframe\">\n",
       "  <thead>\n",
       "    <tr style=\"text-align: right;\">\n",
       "      <th></th>\n",
       "      <th>comment</th>\n",
       "      <th>rating</th>\n",
       "      <th>sku</th>\n",
       "      <th>time</th>\n",
       "      <th>user</th>\n",
       "      <th>user_fk</th>\n",
       "    </tr>\n",
       "  </thead>\n",
       "  <tbody>\n",
       "    <tr>\n",
       "      <th>82555</th>\n",
       "      <td>แพ็คสินค้าดี+ส่งของเร็ว  ของใช้งานได้ดีตามคุณส...</td>\n",
       "      <td>4</td>\n",
       "      <td>WA038ELAA3QH3BANTH</td>\n",
       "      <td>2017-02-01 23:28:46</td>\n",
       "      <td>สุวัฒน์ ว.</td>\n",
       "      <td>1151993</td>\n",
       "    </tr>\n",
       "    <tr>\n",
       "      <th>48656</th>\n",
       "      <td>NaN</td>\n",
       "      <td>1</td>\n",
       "      <td>CH928FAAADH5WMANTH</td>\n",
       "      <td>2017-09-01 08:05:23</td>\n",
       "      <td>ปราณี ทุลภิรมย์</td>\n",
       "      <td>11046374</td>\n",
       "    </tr>\n",
       "    <tr>\n",
       "      <th>61403</th>\n",
       "      <td>ดีครับ</td>\n",
       "      <td>5</td>\n",
       "      <td>SE934HLBU6FHANTH</td>\n",
       "      <td>2016-04-22 22:19:23</td>\n",
       "      <td>อัครพงศ์ ศรีปฐมสายชล</td>\n",
       "      <td>3472789</td>\n",
       "    </tr>\n",
       "    <tr>\n",
       "      <th>102867</th>\n",
       "      <td>ปิดได้พอดี แต่ไม่สนิทชิดขอบด้านบน เอานิ้วเลื่อ...</td>\n",
       "      <td>5</td>\n",
       "      <td>FO203ELAT0YIANTH</td>\n",
       "      <td>2017-02-10 04:17:17</td>\n",
       "      <td>เฉลิมนาถ บ.</td>\n",
       "      <td>2554501</td>\n",
       "    </tr>\n",
       "    <tr>\n",
       "      <th>24418</th>\n",
       "      <td>NaN</td>\n",
       "      <td>3</td>\n",
       "      <td>MA681HLAA7H2O1ANTH</td>\n",
       "      <td>2017-03-07 17:59:19</td>\n",
       "      <td>อรรถพร รื่นภิรมย์</td>\n",
       "      <td>4640500</td>\n",
       "    </tr>\n",
       "  </tbody>\n",
       "</table>\n",
       "</div>"
      ],
      "text/plain": [
       "                                                  comment  rating  \\\n",
       "82555   แพ็คสินค้าดี+ส่งของเร็ว  ของใช้งานได้ดีตามคุณส...       4   \n",
       "48656                                                 NaN       1   \n",
       "61403                                              ดีครับ       5   \n",
       "102867  ปิดได้พอดี แต่ไม่สนิทชิดขอบด้านบน เอานิ้วเลื่อ...       5   \n",
       "24418                                                 NaN       3   \n",
       "\n",
       "                       sku                 time                  user  \\\n",
       "82555   WA038ELAA3QH3BANTH  2017-02-01 23:28:46            สุวัฒน์ ว.   \n",
       "48656   CH928FAAADH5WMANTH  2017-09-01 08:05:23       ปราณี ทุลภิรมย์   \n",
       "61403     SE934HLBU6FHANTH  2016-04-22 22:19:23  อัครพงศ์ ศรีปฐมสายชล   \n",
       "102867    FO203ELAT0YIANTH  2017-02-10 04:17:17           เฉลิมนาถ บ.   \n",
       "24418   MA681HLAA7H2O1ANTH  2017-03-07 17:59:19     อรรถพร รื่นภิรมย์   \n",
       "\n",
       "         user_fk  \n",
       "82555    1151993  \n",
       "48656   11046374  \n",
       "61403    3472789  \n",
       "102867   2554501  \n",
       "24418    4640500  "
      ]
     },
     "execution_count": 3,
     "metadata": {},
     "output_type": "execute_result"
    }
   ],
   "source": [
    "# extract anonymous review\n",
    "nonAnonymousReviewDF = reviewDF[reviewDF['user_fk'] != 0]\n",
    "nonAnonymousReviewDF.sample(5)"
   ]
  },
  {
   "cell_type": "code",
   "execution_count": 4,
   "metadata": {
    "collapsed": true
   },
   "outputs": [],
   "source": [
    "# select only data complementing each other\n",
    "productWithReviewDF = productDF[productDF['sku'].isin(nonAnonymousReviewDF['sku'])].copy()\n",
    "reviewWithProductDF = nonAnonymousReviewDF[nonAnonymousReviewDF['sku'].isin(productDF['sku'])].copy()"
   ]
  },
  {
   "cell_type": "code",
   "execution_count": 5,
   "metadata": {},
   "outputs": [
    {
     "name": "stdout",
     "output_type": "stream",
     "text": [
      "shape of product df : (7392, 4)\n",
      "shape of review df : (76080, 6)\n"
     ]
    }
   ],
   "source": [
    "print('shape of product df : {}'.format(productWithReviewDF.shape))\n",
    "print('shape of review df : {}'.format(reviewWithProductDF.shape))"
   ]
  },
  {
   "cell_type": "code",
   "execution_count": 6,
   "metadata": {},
   "outputs": [
    {
     "data": {
      "text/plain": [
       "(76080, 6)"
      ]
     },
     "execution_count": 6,
     "metadata": {},
     "output_type": "execute_result"
    }
   ],
   "source": [
    "reviewWithProductDF.shape"
   ]
  },
  {
   "cell_type": "code",
   "execution_count": 7,
   "metadata": {},
   "outputs": [
    {
     "data": {
      "text/html": [
       "<div>\n",
       "<style>\n",
       "    .dataframe thead tr:only-child th {\n",
       "        text-align: right;\n",
       "    }\n",
       "\n",
       "    .dataframe thead th {\n",
       "        text-align: left;\n",
       "    }\n",
       "\n",
       "    .dataframe tbody tr th {\n",
       "        vertical-align: top;\n",
       "    }\n",
       "</style>\n",
       "<table border=\"1\" class=\"dataframe\">\n",
       "  <thead>\n",
       "    <tr style=\"text-align: right;\">\n",
       "      <th></th>\n",
       "      <th>rating</th>\n",
       "      <th>sku</th>\n",
       "      <th>time</th>\n",
       "      <th>user_fk</th>\n",
       "    </tr>\n",
       "  </thead>\n",
       "  <tbody>\n",
       "    <tr>\n",
       "      <th>35303</th>\n",
       "      <td>3</td>\n",
       "      <td>UN355ELAA7LEZKANTH</td>\n",
       "      <td>2017-09-11 15:36:30</td>\n",
       "      <td>1064718</td>\n",
       "    </tr>\n",
       "    <tr>\n",
       "      <th>88747</th>\n",
       "      <td>5</td>\n",
       "      <td>UN355ELAA4RTXCANTH</td>\n",
       "      <td>2017-06-11 02:30:12</td>\n",
       "      <td>8545598</td>\n",
       "    </tr>\n",
       "    <tr>\n",
       "      <th>15111</th>\n",
       "      <td>4</td>\n",
       "      <td>AU889ELAA4AYDSANTH</td>\n",
       "      <td>2016-12-24 11:48:23</td>\n",
       "      <td>283028</td>\n",
       "    </tr>\n",
       "    <tr>\n",
       "      <th>114544</th>\n",
       "      <td>3</td>\n",
       "      <td>KZ711ELAA4V2VDANTH</td>\n",
       "      <td>2017-06-09 10:43:20</td>\n",
       "      <td>1210619</td>\n",
       "    </tr>\n",
       "    <tr>\n",
       "      <th>121889</th>\n",
       "      <td>3</td>\n",
       "      <td>UN355ELAA7L931ANTH</td>\n",
       "      <td>2017-04-17 08:51:40</td>\n",
       "      <td>8751058</td>\n",
       "    </tr>\n",
       "  </tbody>\n",
       "</table>\n",
       "</div>"
      ],
      "text/plain": [
       "        rating                 sku                 time  user_fk\n",
       "35303        3  UN355ELAA7LEZKANTH  2017-09-11 15:36:30  1064718\n",
       "88747        5  UN355ELAA4RTXCANTH  2017-06-11 02:30:12  8545598\n",
       "15111        4  AU889ELAA4AYDSANTH  2016-12-24 11:48:23   283028\n",
       "114544       3  KZ711ELAA4V2VDANTH  2017-06-09 10:43:20  1210619\n",
       "121889       3  UN355ELAA7L931ANTH  2017-04-17 08:51:40  8751058"
      ]
     },
     "execution_count": 7,
     "metadata": {},
     "output_type": "execute_result"
    }
   ],
   "source": [
    "reviewWithProductCoreDF = reviewWithProductDF.drop(['comment', 'user'], axis=1)\n",
    "reviewWithProductCoreDF.sample(5)"
   ]
  },
  {
   "cell_type": "code",
   "execution_count": 8,
   "metadata": {},
   "outputs": [
    {
     "data": {
      "text/html": [
       "<div>\n",
       "<style>\n",
       "    .dataframe thead tr:only-child th {\n",
       "        text-align: right;\n",
       "    }\n",
       "\n",
       "    .dataframe thead th {\n",
       "        text-align: left;\n",
       "    }\n",
       "\n",
       "    .dataframe tbody tr th {\n",
       "        vertical-align: top;\n",
       "    }\n",
       "</style>\n",
       "<table border=\"1\" class=\"dataframe\">\n",
       "  <thead>\n",
       "    <tr style=\"text-align: right;\">\n",
       "      <th></th>\n",
       "      <th>name</th>\n",
       "      <th>price</th>\n",
       "      <th>sku</th>\n",
       "    </tr>\n",
       "  </thead>\n",
       "  <tbody>\n",
       "    <tr>\n",
       "      <th>14342</th>\n",
       "      <td>Gopro Gopro/SJCam/Xiaomi/YI 360° Rotary Nut Se...</td>\n",
       "      <td>299.0</td>\n",
       "      <td>GO441ELAA4PW3VANTH</td>\n",
       "    </tr>\n",
       "    <tr>\n",
       "      <th>552</th>\n",
       "      <td>Samsung ชุดชาร์จ Samsung Fast Charger อแดปเตอร...</td>\n",
       "      <td>690.0</td>\n",
       "      <td>SA861ELAA5L5GNANTH</td>\n",
       "    </tr>\n",
       "    <tr>\n",
       "      <th>13098</th>\n",
       "      <td>มู่ลี่ประตู 032 ขนาด 80 X 200 ซม. (ราคาพิเศษ)</td>\n",
       "      <td>260.0</td>\n",
       "      <td>WS056HL89ICWANTH</td>\n",
       "    </tr>\n",
       "    <tr>\n",
       "      <th>1359</th>\n",
       "      <td>KitchenMarks ที่ลับมีดอัตโนมัติ ที่ลับมีด ที่ล...</td>\n",
       "      <td>165.0</td>\n",
       "      <td>KI576HLAAE20JSANTH</td>\n",
       "    </tr>\n",
       "    <tr>\n",
       "      <th>10581</th>\n",
       "      <td>RF Furniture ตู้เสื้อผ้า 80 cm รุ่น WK002 ( สี...</td>\n",
       "      <td>1990.0</td>\n",
       "      <td>RF271HLAA65P00ANTH</td>\n",
       "    </tr>\n",
       "  </tbody>\n",
       "</table>\n",
       "</div>"
      ],
      "text/plain": [
       "                                                    name   price  \\\n",
       "14342  Gopro Gopro/SJCam/Xiaomi/YI 360° Rotary Nut Se...   299.0   \n",
       "552    Samsung ชุดชาร์จ Samsung Fast Charger อแดปเตอร...   690.0   \n",
       "13098      มู่ลี่ประตู 032 ขนาด 80 X 200 ซม. (ราคาพิเศษ)   260.0   \n",
       "1359   KitchenMarks ที่ลับมีดอัตโนมัติ ที่ลับมีด ที่ล...   165.0   \n",
       "10581  RF Furniture ตู้เสื้อผ้า 80 cm รุ่น WK002 ( สี...  1990.0   \n",
       "\n",
       "                      sku  \n",
       "14342  GO441ELAA4PW3VANTH  \n",
       "552    SA861ELAA5L5GNANTH  \n",
       "13098    WS056HL89ICWANTH  \n",
       "1359   KI576HLAAE20JSANTH  \n",
       "10581  RF271HLAA65P00ANTH  "
      ]
     },
     "execution_count": 8,
     "metadata": {},
     "output_type": "execute_result"
    }
   ],
   "source": [
    "productWithReviewCoreDF = productWithReviewDF.drop(['url'], axis=1)\n",
    "productWithReviewCoreDF.sample(5)"
   ]
  },
  {
   "cell_type": "code",
   "execution_count": 9,
   "metadata": {
    "collapsed": true
   },
   "outputs": [],
   "source": [
    "# export\n",
    "reviewWithProductCoreDF.to_csv('../data/lazada/clean/review.csv', index=False, encoding='utf-8')\n",
    "productWithReviewCoreDF.to_csv('../data/lazada/clean/product.csv', index=False, encoding='utf-8')"
   ]
  },
  {
   "cell_type": "code",
   "execution_count": null,
   "metadata": {
    "collapsed": true
   },
   "outputs": [],
   "source": []
  }
 ],
 "metadata": {
  "kernelspec": {
   "display_name": "Python 3",
   "language": "python",
   "name": "python3"
  },
  "language_info": {
   "codemirror_mode": {
    "name": "ipython",
    "version": 3
   },
   "file_extension": ".py",
   "mimetype": "text/x-python",
   "name": "python",
   "nbconvert_exporter": "python",
   "pygments_lexer": "ipython3",
   "version": "3.6.2"
  }
 },
 "nbformat": 4,
 "nbformat_minor": 2
}
