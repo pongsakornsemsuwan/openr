{
 "cells": [
  {
   "cell_type": "code",
   "execution_count": 1,
   "metadata": {
    "collapsed": true
   },
   "outputs": [],
   "source": [
    "import pandas as pd"
   ]
  },
  {
   "cell_type": "code",
   "execution_count": 2,
   "metadata": {
    "collapsed": true
   },
   "outputs": [],
   "source": [
    "productDF = pd.read_csv('../data/lazada/product.csv')\n",
    "reviewDF = pd.read_csv('../data/lazada/review.csv')"
   ]
  },
  {
   "cell_type": "code",
   "execution_count": 3,
   "metadata": {},
   "outputs": [
    {
     "data": {
      "text/html": [
       "<div>\n",
       "<style>\n",
       "    .dataframe thead tr:only-child th {\n",
       "        text-align: right;\n",
       "    }\n",
       "\n",
       "    .dataframe thead th {\n",
       "        text-align: left;\n",
       "    }\n",
       "\n",
       "    .dataframe tbody tr th {\n",
       "        vertical-align: top;\n",
       "    }\n",
       "</style>\n",
       "<table border=\"1\" class=\"dataframe\">\n",
       "  <thead>\n",
       "    <tr style=\"text-align: right;\">\n",
       "      <th></th>\n",
       "      <th>comment</th>\n",
       "      <th>rating</th>\n",
       "      <th>sku</th>\n",
       "      <th>time</th>\n",
       "      <th>user</th>\n",
       "      <th>user_fk</th>\n",
       "    </tr>\n",
       "  </thead>\n",
       "  <tbody>\n",
       "    <tr>\n",
       "      <th>123883</th>\n",
       "      <td>ส่งของสองวันสินค้าดีไม่มีตำหนิสินค้าสวยดีลาซาด...</td>\n",
       "      <td>5</td>\n",
       "      <td>XI482ELAAM0E40ANTH</td>\n",
       "      <td>2017-10-02 09:32:35</td>\n",
       "      <td>Tontan Ritthichai</td>\n",
       "      <td>4009853</td>\n",
       "    </tr>\n",
       "    <tr>\n",
       "      <th>28976</th>\n",
       "      <td>ที่แป้นไม่มีภาษาไทย ราคาถูกก็จริง แต่ต้องไปซื้...</td>\n",
       "      <td>3</td>\n",
       "      <td>BO085ELAA4Z0MMANTH</td>\n",
       "      <td>2016-12-26 22:27:10</td>\n",
       "      <td>Manohharn N.</td>\n",
       "      <td>7504256</td>\n",
       "    </tr>\n",
       "    <tr>\n",
       "      <th>21359</th>\n",
       "      <td>ใส่ซิมได้ไหมคับรองรับ 4 g ไหม</td>\n",
       "      <td>1</td>\n",
       "      <td>LE611ELAA6KPQHANTH</td>\n",
       "      <td>2017-07-20 20:24:04</td>\n",
       "      <td>ทุกอย่างไม่แน่นอน ปล่อยวาง และปล่อยวาง</td>\n",
       "      <td>1164108</td>\n",
       "    </tr>\n",
       "    <tr>\n",
       "      <th>75893</th>\n",
       "      <td>NaN</td>\n",
       "      <td>5</td>\n",
       "      <td>SI803HBAA6WIM1ANTH</td>\n",
       "      <td>2017-04-11 10:29:46</td>\n",
       "      <td>เหมียว</td>\n",
       "      <td>9124064</td>\n",
       "    </tr>\n",
       "    <tr>\n",
       "      <th>117589</th>\n",
       "      <td>ส่งได้เร็วตามที่กำหมด&lt;br /&gt;\\r\\nคุณภาพก็ตามราคานะ</td>\n",
       "      <td>4</td>\n",
       "      <td>BL516ELAA3FDLLANTH</td>\n",
       "      <td>2017-04-06 14:30:58</td>\n",
       "      <td>นรินทร์ บ.</td>\n",
       "      <td>502976</td>\n",
       "    </tr>\n",
       "  </tbody>\n",
       "</table>\n",
       "</div>"
      ],
      "text/plain": [
       "                                                  comment  rating  \\\n",
       "123883  ส่งของสองวันสินค้าดีไม่มีตำหนิสินค้าสวยดีลาซาด...       5   \n",
       "28976   ที่แป้นไม่มีภาษาไทย ราคาถูกก็จริง แต่ต้องไปซื้...       3   \n",
       "21359                       ใส่ซิมได้ไหมคับรองรับ 4 g ไหม       1   \n",
       "75893                                                 NaN       5   \n",
       "117589   ส่งได้เร็วตามที่กำหมด<br />\\r\\nคุณภาพก็ตามราคานะ       4   \n",
       "\n",
       "                       sku                 time  \\\n",
       "123883  XI482ELAAM0E40ANTH  2017-10-02 09:32:35   \n",
       "28976   BO085ELAA4Z0MMANTH  2016-12-26 22:27:10   \n",
       "21359   LE611ELAA6KPQHANTH  2017-07-20 20:24:04   \n",
       "75893   SI803HBAA6WIM1ANTH  2017-04-11 10:29:46   \n",
       "117589  BL516ELAA3FDLLANTH  2017-04-06 14:30:58   \n",
       "\n",
       "                                          user  user_fk  \n",
       "123883                       Tontan Ritthichai  4009853  \n",
       "28976                             Manohharn N.  7504256  \n",
       "21359   ทุกอย่างไม่แน่นอน ปล่อยวาง และปล่อยวาง  1164108  \n",
       "75893                                   เหมียว  9124064  \n",
       "117589                              นรินทร์ บ.   502976  "
      ]
     },
     "execution_count": 3,
     "metadata": {},
     "output_type": "execute_result"
    }
   ],
   "source": [
    "# extract anonymous review\n",
    "nonAnonymousReviewDF = reviewDF[reviewDF['user_fk'] != 0]\n",
    "nonAnonymousReviewDF.sample(5)"
   ]
  },
  {
   "cell_type": "code",
   "execution_count": 4,
   "metadata": {
    "collapsed": true
   },
   "outputs": [],
   "source": [
    "# select only data complementing each other\n",
    "productWithReviewDF = productDF[productDF['sku'].isin(nonAnonymousReviewDF['sku'])].copy()\n",
    "reviewWithProductDF = nonAnonymousReviewDF[nonAnonymousReviewDF['sku'].isin(productDF['sku'])].copy()"
   ]
  },
  {
   "cell_type": "code",
   "execution_count": 5,
   "metadata": {},
   "outputs": [
    {
     "name": "stdout",
     "output_type": "stream",
     "text": [
      "shape of product df : (7392, 4)\n",
      "shape of review df : (76080, 6)\n"
     ]
    }
   ],
   "source": [
    "print('shape of product df : {}'.format(productWithReviewDF.shape))\n",
    "print('shape of review df : {}'.format(reviewWithProductDF.shape))"
   ]
  },
  {
   "cell_type": "code",
   "execution_count": 6,
   "metadata": {},
   "outputs": [
    {
     "name": "stdout",
     "output_type": "stream",
     "text": [
      "shape of review after drop dup : (75914, 6)\n"
     ]
    }
   ],
   "source": [
    "# drop duplicate\n",
    "reviewWithProductDF = reviewWithProductDF[~reviewWithProductDF.duplicated(['sku', 'user_fk'])]\n",
    "print('shape of review after drop dup : {}'.format(reviewWithProductDF.shape))"
   ]
  },
  {
   "cell_type": "code",
   "execution_count": 7,
   "metadata": {},
   "outputs": [
    {
     "data": {
      "text/html": [
       "<div>\n",
       "<style>\n",
       "    .dataframe thead tr:only-child th {\n",
       "        text-align: right;\n",
       "    }\n",
       "\n",
       "    .dataframe thead th {\n",
       "        text-align: left;\n",
       "    }\n",
       "\n",
       "    .dataframe tbody tr th {\n",
       "        vertical-align: top;\n",
       "    }\n",
       "</style>\n",
       "<table border=\"1\" class=\"dataframe\">\n",
       "  <thead>\n",
       "    <tr style=\"text-align: right;\">\n",
       "      <th></th>\n",
       "      <th>rating</th>\n",
       "      <th>sku</th>\n",
       "      <th>time</th>\n",
       "      <th>user_fk</th>\n",
       "    </tr>\n",
       "  </thead>\n",
       "  <tbody>\n",
       "    <tr>\n",
       "      <th>105058</th>\n",
       "      <td>5</td>\n",
       "      <td>SA862ELAA1JXU6ANTH</td>\n",
       "      <td>2016-09-21 14:21:15</td>\n",
       "      <td>760847</td>\n",
       "    </tr>\n",
       "    <tr>\n",
       "      <th>34264</th>\n",
       "      <td>4</td>\n",
       "      <td>NA554ELAA6U6M8ANTH</td>\n",
       "      <td>2017-07-06 05:53:02</td>\n",
       "      <td>6234414</td>\n",
       "    </tr>\n",
       "    <tr>\n",
       "      <th>103935</th>\n",
       "      <td>4</td>\n",
       "      <td>NE929HLAA5GZIHANTH</td>\n",
       "      <td>2017-04-27 15:23:00</td>\n",
       "      <td>1129503</td>\n",
       "    </tr>\n",
       "    <tr>\n",
       "      <th>80289</th>\n",
       "      <td>4</td>\n",
       "      <td>UN355ELAA63VOZANTH</td>\n",
       "      <td>2017-05-27 19:20:25</td>\n",
       "      <td>5436682</td>\n",
       "    </tr>\n",
       "    <tr>\n",
       "      <th>37932</th>\n",
       "      <td>5</td>\n",
       "      <td>NV539ELAAKN71MANTH</td>\n",
       "      <td>2017-08-14 17:30:59</td>\n",
       "      <td>11010942</td>\n",
       "    </tr>\n",
       "  </tbody>\n",
       "</table>\n",
       "</div>"
      ],
      "text/plain": [
       "        rating                 sku                 time   user_fk\n",
       "105058       5  SA862ELAA1JXU6ANTH  2016-09-21 14:21:15    760847\n",
       "34264        4  NA554ELAA6U6M8ANTH  2017-07-06 05:53:02   6234414\n",
       "103935       4  NE929HLAA5GZIHANTH  2017-04-27 15:23:00   1129503\n",
       "80289        4  UN355ELAA63VOZANTH  2017-05-27 19:20:25   5436682\n",
       "37932        5  NV539ELAAKN71MANTH  2017-08-14 17:30:59  11010942"
      ]
     },
     "execution_count": 7,
     "metadata": {},
     "output_type": "execute_result"
    }
   ],
   "source": [
    "reviewWithProductCoreDF = reviewWithProductDF.drop(['comment', 'user'], axis=1)\n",
    "reviewWithProductCoreDF.sample(5)"
   ]
  },
  {
   "cell_type": "code",
   "execution_count": 8,
   "metadata": {},
   "outputs": [
    {
     "data": {
      "text/html": [
       "<div>\n",
       "<style>\n",
       "    .dataframe thead tr:only-child th {\n",
       "        text-align: right;\n",
       "    }\n",
       "\n",
       "    .dataframe thead th {\n",
       "        text-align: left;\n",
       "    }\n",
       "\n",
       "    .dataframe tbody tr th {\n",
       "        vertical-align: top;\n",
       "    }\n",
       "</style>\n",
       "<table border=\"1\" class=\"dataframe\">\n",
       "  <thead>\n",
       "    <tr style=\"text-align: right;\">\n",
       "      <th></th>\n",
       "      <th>name</th>\n",
       "      <th>price</th>\n",
       "      <th>sku</th>\n",
       "    </tr>\n",
       "  </thead>\n",
       "  <tbody>\n",
       "    <tr>\n",
       "      <th>986</th>\n",
       "      <td>Jaguar กล่องอาหารสเตนเลส ทรงรี 18 ซม. แพ็ค 2 ก...</td>\n",
       "      <td>604.0</td>\n",
       "      <td>JA696HLALKW7ANTH</td>\n",
       "    </tr>\n",
       "    <tr>\n",
       "      <th>4315</th>\n",
       "      <td>Kuhong Casual Men Letter Print Hip Hop Fashion...</td>\n",
       "      <td>323.0</td>\n",
       "      <td>KU876FAAAI82IZANTH</td>\n",
       "    </tr>\n",
       "    <tr>\n",
       "      <th>7559</th>\n",
       "      <td>Wonderful กระเป๋าเครื่องสำอางค์ รุ่น B001 -สีดำ</td>\n",
       "      <td>88.0</td>\n",
       "      <td>WO848HBAADWRW1ANTH</td>\n",
       "    </tr>\n",
       "    <tr>\n",
       "      <th>10800</th>\n",
       "      <td>EsoGoal (สีน้ำเงิน+สีดำ) หูฟังบลูทูธ Earbud เว...</td>\n",
       "      <td>340.0</td>\n",
       "      <td>UN355ELAACG722ANTH</td>\n",
       "    </tr>\n",
       "    <tr>\n",
       "      <th>10732</th>\n",
       "      <td>RELUX ตู้ลิ้นชักอเนกประสงค์ 10 ลิ้นชัก ใส่ปากก...</td>\n",
       "      <td>1290.0</td>\n",
       "      <td>RE740HLAF9Q3ANTH</td>\n",
       "    </tr>\n",
       "  </tbody>\n",
       "</table>\n",
       "</div>"
      ],
      "text/plain": [
       "                                                    name   price  \\\n",
       "986    Jaguar กล่องอาหารสเตนเลส ทรงรี 18 ซม. แพ็ค 2 ก...   604.0   \n",
       "4315   Kuhong Casual Men Letter Print Hip Hop Fashion...   323.0   \n",
       "7559     Wonderful กระเป๋าเครื่องสำอางค์ รุ่น B001 -สีดำ    88.0   \n",
       "10800  EsoGoal (สีน้ำเงิน+สีดำ) หูฟังบลูทูธ Earbud เว...   340.0   \n",
       "10732  RELUX ตู้ลิ้นชักอเนกประสงค์ 10 ลิ้นชัก ใส่ปากก...  1290.0   \n",
       "\n",
       "                      sku  \n",
       "986      JA696HLALKW7ANTH  \n",
       "4315   KU876FAAAI82IZANTH  \n",
       "7559   WO848HBAADWRW1ANTH  \n",
       "10800  UN355ELAACG722ANTH  \n",
       "10732    RE740HLAF9Q3ANTH  "
      ]
     },
     "execution_count": 8,
     "metadata": {},
     "output_type": "execute_result"
    }
   ],
   "source": [
    "productWithReviewCoreDF = productWithReviewDF.drop(['url'], axis=1)\n",
    "productWithReviewCoreDF.sample(5)"
   ]
  },
  {
   "cell_type": "code",
   "execution_count": 9,
   "metadata": {
    "collapsed": true
   },
   "outputs": [],
   "source": [
    "# select only product with review count > 2\n",
    "productWithManyReviews = reviewWithProductCoreDF[['sku', 'user_fk']].groupby('sku').count()\n",
    "productWithManyReviews = productWithManyReviews[productWithManyReviews['user_fk'] >= 2].index.tolist()\n",
    "\n",
    "# filter core DF\n",
    "finalProductDF = productWithReviewCoreDF[productWithReviewCoreDF['sku'].isin(productWithManyReviews)]\n",
    "finalReviewDF = reviewWithProductCoreDF[reviewWithProductCoreDF['sku'].isin(productWithManyReviews)]"
   ]
  },
  {
   "cell_type": "code",
   "execution_count": 10,
   "metadata": {
    "collapsed": true
   },
   "outputs": [],
   "source": [
    "# export\n",
    "finalReviewDF.to_csv('../data/lazada/clean/review.csv', index=False, encoding='utf-8')\n",
    "finalProductDF.to_csv('../data/lazada/clean/product.csv', index=False, encoding='utf-8')"
   ]
  },
  {
   "cell_type": "code",
   "execution_count": null,
   "metadata": {
    "collapsed": true
   },
   "outputs": [],
   "source": []
  }
 ],
 "metadata": {
  "kernelspec": {
   "display_name": "Python 3",
   "language": "python",
   "name": "python3"
  },
  "language_info": {
   "codemirror_mode": {
    "name": "ipython",
    "version": 3
   },
   "file_extension": ".py",
   "mimetype": "text/x-python",
   "name": "python",
   "nbconvert_exporter": "python",
   "pygments_lexer": "ipython3",
   "version": "3.6.2"
  }
 },
 "nbformat": 4,
 "nbformat_minor": 2
}
