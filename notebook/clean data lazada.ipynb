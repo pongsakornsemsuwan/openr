{
 "cells": [
  {
   "cell_type": "code",
   "execution_count": 1,
   "metadata": {
    "collapsed": true
   },
   "outputs": [],
   "source": [
    "import pandas as pd"
   ]
  },
  {
   "cell_type": "code",
   "execution_count": 2,
   "metadata": {
    "collapsed": true
   },
   "outputs": [],
   "source": [
    "productDF = pd.read_csv('../data/lazada/product.csv')\n",
    "reviewDF = pd.read_csv('../data/lazada/review.csv')"
   ]
  },
  {
   "cell_type": "code",
   "execution_count": 3,
   "metadata": {},
   "outputs": [
    {
     "data": {
      "text/html": [
       "<div>\n",
       "<style>\n",
       "    .dataframe thead tr:only-child th {\n",
       "        text-align: right;\n",
       "    }\n",
       "\n",
       "    .dataframe thead th {\n",
       "        text-align: left;\n",
       "    }\n",
       "\n",
       "    .dataframe tbody tr th {\n",
       "        vertical-align: top;\n",
       "    }\n",
       "</style>\n",
       "<table border=\"1\" class=\"dataframe\">\n",
       "  <thead>\n",
       "    <tr style=\"text-align: right;\">\n",
       "      <th></th>\n",
       "      <th>comment</th>\n",
       "      <th>rating</th>\n",
       "      <th>sku</th>\n",
       "      <th>time</th>\n",
       "      <th>user</th>\n",
       "      <th>user_fk</th>\n",
       "    </tr>\n",
       "  </thead>\n",
       "  <tbody>\n",
       "    <tr>\n",
       "      <th>99642</th>\n",
       "      <td>สั่งให้แฟนokอยู่ครับ</td>\n",
       "      <td>4</td>\n",
       "      <td>UN355HLAA6KOD7ANTH</td>\n",
       "      <td>2017-07-05 01:57:23</td>\n",
       "      <td>วิทูรย์ จำปาหอม</td>\n",
       "      <td>10255598</td>\n",
       "    </tr>\n",
       "    <tr>\n",
       "      <th>51988</th>\n",
       "      <td>เสียงดังฟังชัดดีค่ะ</td>\n",
       "      <td>5</td>\n",
       "      <td>AV580ELAA1W8FTANTH</td>\n",
       "      <td>2017-02-11 21:20:43</td>\n",
       "      <td>แมวเหมียว สีม่วง</td>\n",
       "      <td>2142431</td>\n",
       "    </tr>\n",
       "    <tr>\n",
       "      <th>43651</th>\n",
       "      <td>ส่งของเร็วมากคุณภาพเกินราคาครับบอกเลย ไม่ซื้อพ...</td>\n",
       "      <td>5</td>\n",
       "      <td>TS154ELAA2WGALANTH</td>\n",
       "      <td>2017-04-24 11:48:10</td>\n",
       "      <td>Aroha C.</td>\n",
       "      <td>2297079</td>\n",
       "    </tr>\n",
       "    <tr>\n",
       "      <th>121718</th>\n",
       "      <td>ใช้ดีมากครับ เสียบกล่องแอนดรอยใช้ได้ทันที แถมถ...</td>\n",
       "      <td>5</td>\n",
       "      <td>LO633EL35DTOANTH</td>\n",
       "      <td>2016-02-02 11:11:33</td>\n",
       "      <td>กฤษฎี ฉมาภิสิษฐ</td>\n",
       "      <td>564834</td>\n",
       "    </tr>\n",
       "    <tr>\n",
       "      <th>48301</th>\n",
       "      <td>ดีค่ะ</td>\n",
       "      <td>4</td>\n",
       "      <td>SC713FAAAGX4PAANTH</td>\n",
       "      <td>2017-09-08 16:16:16</td>\n",
       "      <td>Supitsha P.</td>\n",
       "      <td>3590539</td>\n",
       "    </tr>\n",
       "  </tbody>\n",
       "</table>\n",
       "</div>"
      ],
      "text/plain": [
       "                                                  comment  rating  \\\n",
       "99642                                สั่งให้แฟนokอยู่ครับ       4   \n",
       "51988                                 เสียงดังฟังชัดดีค่ะ       5   \n",
       "43651   ส่งของเร็วมากคุณภาพเกินราคาครับบอกเลย ไม่ซื้อพ...       5   \n",
       "121718  ใช้ดีมากครับ เสียบกล่องแอนดรอยใช้ได้ทันที แถมถ...       5   \n",
       "48301                                               ดีค่ะ       4   \n",
       "\n",
       "                       sku                 time              user   user_fk  \n",
       "99642   UN355HLAA6KOD7ANTH  2017-07-05 01:57:23   วิทูรย์ จำปาหอม  10255598  \n",
       "51988   AV580ELAA1W8FTANTH  2017-02-11 21:20:43  แมวเหมียว สีม่วง   2142431  \n",
       "43651   TS154ELAA2WGALANTH  2017-04-24 11:48:10          Aroha C.   2297079  \n",
       "121718    LO633EL35DTOANTH  2016-02-02 11:11:33   กฤษฎี ฉมาภิสิษฐ    564834  \n",
       "48301   SC713FAAAGX4PAANTH  2017-09-08 16:16:16       Supitsha P.   3590539  "
      ]
     },
     "execution_count": 3,
     "metadata": {},
     "output_type": "execute_result"
    }
   ],
   "source": [
    "# extract anonymous review\n",
    "nonAnonymousReviewDF = reviewDF[reviewDF['user_fk'] != 0]\n",
    "nonAnonymousReviewDF.sample(5)"
   ]
  },
  {
   "cell_type": "code",
   "execution_count": 4,
   "metadata": {
    "collapsed": true
   },
   "outputs": [],
   "source": [
    "# select only data complementing each other\n",
    "productWithReviewDF = productDF[productDF['sku'].isin(nonAnonymousReviewDF['sku'])].copy()\n",
    "reviewWithProductDF = nonAnonymousReviewDF[nonAnonymousReviewDF['sku'].isin(productDF['sku'])].copy()"
   ]
  },
  {
   "cell_type": "code",
   "execution_count": 5,
   "metadata": {},
   "outputs": [
    {
     "name": "stdout",
     "output_type": "stream",
     "text": [
      "shape of product df : (7392, 4)\n",
      "shape of review df : (76080, 6)\n"
     ]
    }
   ],
   "source": [
    "print('shape of product df : {}'.format(productWithReviewDF.shape))\n",
    "print('shape of review df : {}'.format(reviewWithProductDF.shape))"
   ]
  },
  {
   "cell_type": "code",
   "execution_count": 6,
   "metadata": {},
   "outputs": [
    {
     "name": "stdout",
     "output_type": "stream",
     "text": [
      "shape of review after drop dup : (75914, 6)\n"
     ]
    }
   ],
   "source": [
    "# drop duplicate\n",
    "reviewWithProductDF = reviewWithProductDF[~reviewWithProductDF.duplicated(['sku', 'user_fk'])]\n",
    "print('shape of review after drop dup : {}'.format(reviewWithProductDF.shape))"
   ]
  },
  {
   "cell_type": "code",
   "execution_count": 7,
   "metadata": {},
   "outputs": [
    {
     "data": {
      "text/html": [
       "<div>\n",
       "<style>\n",
       "    .dataframe thead tr:only-child th {\n",
       "        text-align: right;\n",
       "    }\n",
       "\n",
       "    .dataframe thead th {\n",
       "        text-align: left;\n",
       "    }\n",
       "\n",
       "    .dataframe tbody tr th {\n",
       "        vertical-align: top;\n",
       "    }\n",
       "</style>\n",
       "<table border=\"1\" class=\"dataframe\">\n",
       "  <thead>\n",
       "    <tr style=\"text-align: right;\">\n",
       "      <th></th>\n",
       "      <th>rating</th>\n",
       "      <th>sku</th>\n",
       "      <th>time</th>\n",
       "      <th>user_fk</th>\n",
       "    </tr>\n",
       "  </thead>\n",
       "  <tbody>\n",
       "    <tr>\n",
       "      <th>120836</th>\n",
       "      <td>4</td>\n",
       "      <td>SK763HAAALAVWQANTH</td>\n",
       "      <td>2017-08-31 16:09:19</td>\n",
       "      <td>5199857</td>\n",
       "    </tr>\n",
       "    <tr>\n",
       "      <th>25758</th>\n",
       "      <td>1</td>\n",
       "      <td>GO441ELAA56HAFANTH</td>\n",
       "      <td>2017-07-30 22:17:31</td>\n",
       "      <td>4041396</td>\n",
       "    </tr>\n",
       "    <tr>\n",
       "      <th>16636</th>\n",
       "      <td>5</td>\n",
       "      <td>AP067ELAA4K3BUANTH</td>\n",
       "      <td>2017-02-16 20:07:47</td>\n",
       "      <td>5465203</td>\n",
       "    </tr>\n",
       "    <tr>\n",
       "      <th>110219</th>\n",
       "      <td>4</td>\n",
       "      <td>WO848FAAA62ESHANTH</td>\n",
       "      <td>2017-03-01 14:29:50</td>\n",
       "      <td>6465121</td>\n",
       "    </tr>\n",
       "    <tr>\n",
       "      <th>98103</th>\n",
       "      <td>4</td>\n",
       "      <td>HA496HLAA4384TANTH</td>\n",
       "      <td>2016-11-14 22:19:32</td>\n",
       "      <td>6431224</td>\n",
       "    </tr>\n",
       "  </tbody>\n",
       "</table>\n",
       "</div>"
      ],
      "text/plain": [
       "        rating                 sku                 time  user_fk\n",
       "120836       4  SK763HAAALAVWQANTH  2017-08-31 16:09:19  5199857\n",
       "25758        1  GO441ELAA56HAFANTH  2017-07-30 22:17:31  4041396\n",
       "16636        5  AP067ELAA4K3BUANTH  2017-02-16 20:07:47  5465203\n",
       "110219       4  WO848FAAA62ESHANTH  2017-03-01 14:29:50  6465121\n",
       "98103        4  HA496HLAA4384TANTH  2016-11-14 22:19:32  6431224"
      ]
     },
     "execution_count": 7,
     "metadata": {},
     "output_type": "execute_result"
    }
   ],
   "source": [
    "reviewWithProductCoreDF = reviewWithProductDF.drop(['comment', 'user'], axis=1)\n",
    "reviewWithProductCoreDF.sample(5)"
   ]
  },
  {
   "cell_type": "code",
   "execution_count": 8,
   "metadata": {},
   "outputs": [
    {
     "data": {
      "text/html": [
       "<div>\n",
       "<style>\n",
       "    .dataframe thead tr:only-child th {\n",
       "        text-align: right;\n",
       "    }\n",
       "\n",
       "    .dataframe thead th {\n",
       "        text-align: left;\n",
       "    }\n",
       "\n",
       "    .dataframe tbody tr th {\n",
       "        vertical-align: top;\n",
       "    }\n",
       "</style>\n",
       "<table border=\"1\" class=\"dataframe\">\n",
       "  <thead>\n",
       "    <tr style=\"text-align: right;\">\n",
       "      <th></th>\n",
       "      <th>name</th>\n",
       "      <th>price</th>\n",
       "      <th>sku</th>\n",
       "    </tr>\n",
       "  </thead>\n",
       "  <tbody>\n",
       "    <tr>\n",
       "      <th>13463</th>\n",
       "      <td>I-mobile i-TAB DTV (White)</td>\n",
       "      <td>1650.0</td>\n",
       "      <td>IM115ELAA8PABIANTH</td>\n",
       "    </tr>\n",
       "    <tr>\n",
       "      <th>7374</th>\n",
       "      <td>Novo Double Color Eye Shadow โนโว อายแชโดว์ 2 ...</td>\n",
       "      <td>88.0</td>\n",
       "      <td>NO747HBAAKYF09ANTH</td>\n",
       "    </tr>\n",
       "    <tr>\n",
       "      <th>8895</th>\n",
       "      <td>ขายึด ขาจับกล้องติดรถ SJ4000 gopro HD198 R300 ...</td>\n",
       "      <td>48.0</td>\n",
       "      <td>UN355ELAAKPZU7ANTH</td>\n",
       "    </tr>\n",
       "    <tr>\n",
       "      <th>14507</th>\n",
       "      <td>Flexible Tripod Size L -Black (Free Mobile pho...</td>\n",
       "      <td>299.0</td>\n",
       "      <td>FL288ELASMLXANTH</td>\n",
       "    </tr>\n",
       "    <tr>\n",
       "      <th>5185</th>\n",
       "      <td>Top Bra ชุดชั้นในกระชับไร้รอยต่อ แพ็ค 6 ตัว 6 ...</td>\n",
       "      <td>369.0</td>\n",
       "      <td>TO092FAAA4RQ4IANTH</td>\n",
       "    </tr>\n",
       "  </tbody>\n",
       "</table>\n",
       "</div>"
      ],
      "text/plain": [
       "                                                    name   price  \\\n",
       "13463                         I-mobile i-TAB DTV (White)  1650.0   \n",
       "7374   Novo Double Color Eye Shadow โนโว อายแชโดว์ 2 ...    88.0   \n",
       "8895   ขายึด ขาจับกล้องติดรถ SJ4000 gopro HD198 R300 ...    48.0   \n",
       "14507  Flexible Tripod Size L -Black (Free Mobile pho...   299.0   \n",
       "5185   Top Bra ชุดชั้นในกระชับไร้รอยต่อ แพ็ค 6 ตัว 6 ...   369.0   \n",
       "\n",
       "                      sku  \n",
       "13463  IM115ELAA8PABIANTH  \n",
       "7374   NO747HBAAKYF09ANTH  \n",
       "8895   UN355ELAAKPZU7ANTH  \n",
       "14507    FL288ELASMLXANTH  \n",
       "5185   TO092FAAA4RQ4IANTH  "
      ]
     },
     "execution_count": 8,
     "metadata": {},
     "output_type": "execute_result"
    }
   ],
   "source": [
    "productWithReviewCoreDF = productWithReviewDF.drop(['url'], axis=1)\n",
    "productWithReviewCoreDF.sample(5)"
   ]
  },
  {
   "cell_type": "code",
   "execution_count": 9,
   "metadata": {
    "collapsed": true
   },
   "outputs": [],
   "source": [
    "# export\n",
    "reviewWithProductCoreDF.to_csv('../data/lazada/clean/review.csv', index=False, encoding='utf-8')\n",
    "productWithReviewCoreDF.to_csv('../data/lazada/clean/product.csv', index=False, encoding='utf-8')"
   ]
  },
  {
   "cell_type": "code",
   "execution_count": null,
   "metadata": {
    "collapsed": true
   },
   "outputs": [],
   "source": []
  }
 ],
 "metadata": {
  "kernelspec": {
   "display_name": "Python 3",
   "language": "python",
   "name": "python3"
  },
  "language_info": {
   "codemirror_mode": {
    "name": "ipython",
    "version": 3
   },
   "file_extension": ".py",
   "mimetype": "text/x-python",
   "name": "python",
   "nbconvert_exporter": "python",
   "pygments_lexer": "ipython3",
   "version": "3.6.2"
  }
 },
 "nbformat": 4,
 "nbformat_minor": 2
}
