{
 "cells": [
  {
   "cell_type": "code",
   "execution_count": 1,
   "metadata": {
    "collapsed": true
   },
   "outputs": [],
   "source": [
    "import pandas as pd"
   ]
  },
  {
   "cell_type": "code",
   "execution_count": 2,
   "metadata": {
    "collapsed": true
   },
   "outputs": [],
   "source": [
    "productDF = pd.read_csv('../data/lazada/product.csv')\n",
    "reviewDF = pd.read_csv('../data/lazada/review.csv')"
   ]
  },
  {
   "cell_type": "code",
   "execution_count": 3,
   "metadata": {},
   "outputs": [
    {
     "data": {
      "text/html": [
       "<div>\n",
       "<style>\n",
       "    .dataframe thead tr:only-child th {\n",
       "        text-align: right;\n",
       "    }\n",
       "\n",
       "    .dataframe thead th {\n",
       "        text-align: left;\n",
       "    }\n",
       "\n",
       "    .dataframe tbody tr th {\n",
       "        vertical-align: top;\n",
       "    }\n",
       "</style>\n",
       "<table border=\"1\" class=\"dataframe\">\n",
       "  <thead>\n",
       "    <tr style=\"text-align: right;\">\n",
       "      <th></th>\n",
       "      <th>comment</th>\n",
       "      <th>rating</th>\n",
       "      <th>sku</th>\n",
       "      <th>time</th>\n",
       "      <th>user</th>\n",
       "      <th>user_fk</th>\n",
       "    </tr>\n",
       "  </thead>\n",
       "  <tbody>\n",
       "    <tr>\n",
       "      <th>34548</th>\n",
       "      <td>1. ส่งของรวดเร็วดีมาก ห่อแพ็คอย่างดี&lt;br /&gt;\\r\\n...</td>\n",
       "      <td>5</td>\n",
       "      <td>UN355ELAA7LEZKANTH</td>\n",
       "      <td>2017-04-22 14:34:41</td>\n",
       "      <td>จารุพล ร.</td>\n",
       "      <td>430190</td>\n",
       "    </tr>\n",
       "    <tr>\n",
       "      <th>21909</th>\n",
       "      <td>สั่งวันที่ 22 23 ก็ได้เลยครับ ภาพสวย จอใหญ่ ปร...</td>\n",
       "      <td>5</td>\n",
       "      <td>HP466ELAA4BHKWANTH</td>\n",
       "      <td>2017-03-23 12:24:47</td>\n",
       "      <td>Manunchai Kruangjai</td>\n",
       "      <td>2096655</td>\n",
       "    </tr>\n",
       "    <tr>\n",
       "      <th>103823</th>\n",
       "      <td>NaN</td>\n",
       "      <td>3</td>\n",
       "      <td>DT888ELAA4P7Z2ANTH</td>\n",
       "      <td>2017-09-06 19:58:04</td>\n",
       "      <td>พัชรี น้ำพลอย</td>\n",
       "      <td>8180382</td>\n",
       "    </tr>\n",
       "    <tr>\n",
       "      <th>104445</th>\n",
       "      <td>สินค้าถือว่าดี มีคุณภาพ ในราคานี้คุ้มครับ</td>\n",
       "      <td>5</td>\n",
       "      <td>YU588ELAHBTJANTH</td>\n",
       "      <td>2017-07-02 20:55:50</td>\n",
       "      <td>ศิวะ โคจำนงค์</td>\n",
       "      <td>2080623</td>\n",
       "    </tr>\n",
       "    <tr>\n",
       "      <th>73843</th>\n",
       "      <td>ใช้ดีมากค่ะ ส่งสินค้าเร็วมาก แพจเกจสินค้า ดีงา...</td>\n",
       "      <td>1</td>\n",
       "      <td>CH843HBAA4374NANTH</td>\n",
       "      <td>2017-09-19 21:49:52</td>\n",
       "      <td>พรรณิการ์ ส.</td>\n",
       "      <td>5508933</td>\n",
       "    </tr>\n",
       "  </tbody>\n",
       "</table>\n",
       "</div>"
      ],
      "text/plain": [
       "                                                  comment  rating  \\\n",
       "34548   1. ส่งของรวดเร็วดีมาก ห่อแพ็คอย่างดี<br />\\r\\n...       5   \n",
       "21909   สั่งวันที่ 22 23 ก็ได้เลยครับ ภาพสวย จอใหญ่ ปร...       5   \n",
       "103823                                                NaN       3   \n",
       "104445          สินค้าถือว่าดี มีคุณภาพ ในราคานี้คุ้มครับ       5   \n",
       "73843   ใช้ดีมากค่ะ ส่งสินค้าเร็วมาก แพจเกจสินค้า ดีงา...       1   \n",
       "\n",
       "                       sku                 time                 user  user_fk  \n",
       "34548   UN355ELAA7LEZKANTH  2017-04-22 14:34:41            จารุพล ร.   430190  \n",
       "21909   HP466ELAA4BHKWANTH  2017-03-23 12:24:47  Manunchai Kruangjai  2096655  \n",
       "103823  DT888ELAA4P7Z2ANTH  2017-09-06 19:58:04        พัชรี น้ำพลอย  8180382  \n",
       "104445    YU588ELAHBTJANTH  2017-07-02 20:55:50        ศิวะ โคจำนงค์  2080623  \n",
       "73843   CH843HBAA4374NANTH  2017-09-19 21:49:52         พรรณิการ์ ส.  5508933  "
      ]
     },
     "execution_count": 3,
     "metadata": {},
     "output_type": "execute_result"
    }
   ],
   "source": [
    "# extract anonymous review\n",
    "nonAnonymousReviewDF = reviewDF[reviewDF['user_fk'] != 0]\n",
    "nonAnonymousReviewDF.sample(5)"
   ]
  },
  {
   "cell_type": "code",
   "execution_count": 4,
   "metadata": {
    "collapsed": true
   },
   "outputs": [],
   "source": [
    "# select only data complementing each other\n",
    "productWithReviewDF = productDF[productDF['sku'].isin(nonAnonymousReviewDF['sku'])].copy()\n",
    "reviewWithProductDF = nonAnonymousReviewDF[nonAnonymousReviewDF['sku'].isin(productDF['sku'])].copy()"
   ]
  },
  {
   "cell_type": "code",
   "execution_count": 5,
   "metadata": {},
   "outputs": [
    {
     "name": "stdout",
     "output_type": "stream",
     "text": [
      "shape of product df : (7392, 4)\n",
      "shape of review df : (76080, 6)\n"
     ]
    }
   ],
   "source": [
    "print('shape of product df : {}'.format(productWithReviewDF.shape))\n",
    "print('shape of review df : {}'.format(reviewWithProductDF.shape))"
   ]
  },
  {
   "cell_type": "code",
   "execution_count": 6,
   "metadata": {},
   "outputs": [
    {
     "name": "stdout",
     "output_type": "stream",
     "text": [
      "shape of review after drop dup : (75914, 6)\n"
     ]
    }
   ],
   "source": [
    "# drop duplicate\n",
    "reviewWithProductDF = reviewWithProductDF[~reviewWithProductDF.duplicated(['sku', 'user_fk'])]\n",
    "print('shape of review after drop dup : {}'.format(reviewWithProductDF.shape))"
   ]
  },
  {
   "cell_type": "code",
   "execution_count": 7,
   "metadata": {},
   "outputs": [
    {
     "data": {
      "text/html": [
       "<div>\n",
       "<style>\n",
       "    .dataframe thead tr:only-child th {\n",
       "        text-align: right;\n",
       "    }\n",
       "\n",
       "    .dataframe thead th {\n",
       "        text-align: left;\n",
       "    }\n",
       "\n",
       "    .dataframe tbody tr th {\n",
       "        vertical-align: top;\n",
       "    }\n",
       "</style>\n",
       "<table border=\"1\" class=\"dataframe\">\n",
       "  <thead>\n",
       "    <tr style=\"text-align: right;\">\n",
       "      <th></th>\n",
       "      <th>rating</th>\n",
       "      <th>sku</th>\n",
       "      <th>time</th>\n",
       "      <th>user_fk</th>\n",
       "    </tr>\n",
       "  </thead>\n",
       "  <tbody>\n",
       "    <tr>\n",
       "      <th>85421</th>\n",
       "      <td>5</td>\n",
       "      <td>ES654FAAA6M578ANTH</td>\n",
       "      <td>2017-09-28 19:31:35</td>\n",
       "      <td>7803553</td>\n",
       "    </tr>\n",
       "    <tr>\n",
       "      <th>102712</th>\n",
       "      <td>5</td>\n",
       "      <td>QU975HLAJAOXANTH</td>\n",
       "      <td>2016-01-25 16:04:03</td>\n",
       "      <td>1897391</td>\n",
       "    </tr>\n",
       "    <tr>\n",
       "      <th>119</th>\n",
       "      <td>4</td>\n",
       "      <td>CA182OTAA3JIRWANTH</td>\n",
       "      <td>2017-08-09 13:18:17</td>\n",
       "      <td>8418040</td>\n",
       "    </tr>\n",
       "    <tr>\n",
       "      <th>100439</th>\n",
       "      <td>4</td>\n",
       "      <td>EA994HAALWHIANTH</td>\n",
       "      <td>2015-08-17 16:34:24</td>\n",
       "      <td>89157</td>\n",
       "    </tr>\n",
       "    <tr>\n",
       "      <th>39753</th>\n",
       "      <td>1</td>\n",
       "      <td>NI919ELAA6JB4TANTH</td>\n",
       "      <td>2017-05-27 22:41:45</td>\n",
       "      <td>2646006</td>\n",
       "    </tr>\n",
       "  </tbody>\n",
       "</table>\n",
       "</div>"
      ],
      "text/plain": [
       "        rating                 sku                 time  user_fk\n",
       "85421        5  ES654FAAA6M578ANTH  2017-09-28 19:31:35  7803553\n",
       "102712       5    QU975HLAJAOXANTH  2016-01-25 16:04:03  1897391\n",
       "119          4  CA182OTAA3JIRWANTH  2017-08-09 13:18:17  8418040\n",
       "100439       4    EA994HAALWHIANTH  2015-08-17 16:34:24    89157\n",
       "39753        1  NI919ELAA6JB4TANTH  2017-05-27 22:41:45  2646006"
      ]
     },
     "execution_count": 7,
     "metadata": {},
     "output_type": "execute_result"
    }
   ],
   "source": [
    "reviewWithProductCoreDF = reviewWithProductDF.drop(['comment', 'user'], axis=1)\n",
    "reviewWithProductCoreDF.sample(5)"
   ]
  },
  {
   "cell_type": "code",
   "execution_count": 8,
   "metadata": {},
   "outputs": [
    {
     "data": {
      "text/html": [
       "<div>\n",
       "<style>\n",
       "    .dataframe thead tr:only-child th {\n",
       "        text-align: right;\n",
       "    }\n",
       "\n",
       "    .dataframe thead th {\n",
       "        text-align: left;\n",
       "    }\n",
       "\n",
       "    .dataframe tbody tr th {\n",
       "        vertical-align: top;\n",
       "    }\n",
       "</style>\n",
       "<table border=\"1\" class=\"dataframe\">\n",
       "  <thead>\n",
       "    <tr style=\"text-align: right;\">\n",
       "      <th></th>\n",
       "      <th>name</th>\n",
       "      <th>price</th>\n",
       "      <th>sku</th>\n",
       "    </tr>\n",
       "  </thead>\n",
       "  <tbody>\n",
       "    <tr>\n",
       "      <th>5341</th>\n",
       "      <td>Wacoal Panty Set 3 pcs. กางเกงในรูปทรง SHORT (...</td>\n",
       "      <td>299.0</td>\n",
       "      <td>WA811FAAA344K1ANTH</td>\n",
       "    </tr>\n",
       "    <tr>\n",
       "      <th>1721</th>\n",
       "      <td>SJCAM SJ4000 Action cam Car camera กล้องแอ็คชั...</td>\n",
       "      <td>1730.0</td>\n",
       "      <td>SJ883ELAA6E4O4ANTH</td>\n",
       "    </tr>\n",
       "    <tr>\n",
       "      <th>2873</th>\n",
       "      <td>กล้องจิ๋วขนาดเล็ก กล้องแอบถ่ายวีดีโอ กล้องสายล...</td>\n",
       "      <td>391.0</td>\n",
       "      <td>MI351ELAANKYGMANTH</td>\n",
       "    </tr>\n",
       "    <tr>\n",
       "      <th>12116</th>\n",
       "      <td>Mc Jeans Slim Fit Jeans MADY12000</td>\n",
       "      <td>1116.0</td>\n",
       "      <td>MC881FAAUDOYANTH</td>\n",
       "    </tr>\n",
       "    <tr>\n",
       "      <th>3332</th>\n",
       "      <td>ORICO กล่องเก็บ ฮาร์ดดิสก์ - รุ่น PHX-35 SET 5 สี</td>\n",
       "      <td>999.0</td>\n",
       "      <td>OR619ELACCR3ANTH</td>\n",
       "    </tr>\n",
       "  </tbody>\n",
       "</table>\n",
       "</div>"
      ],
      "text/plain": [
       "                                                    name   price  \\\n",
       "5341   Wacoal Panty Set 3 pcs. กางเกงในรูปทรง SHORT (...   299.0   \n",
       "1721   SJCAM SJ4000 Action cam Car camera กล้องแอ็คชั...  1730.0   \n",
       "2873   กล้องจิ๋วขนาดเล็ก กล้องแอบถ่ายวีดีโอ กล้องสายล...   391.0   \n",
       "12116                  Mc Jeans Slim Fit Jeans MADY12000  1116.0   \n",
       "3332   ORICO กล่องเก็บ ฮาร์ดดิสก์ - รุ่น PHX-35 SET 5 สี   999.0   \n",
       "\n",
       "                      sku  \n",
       "5341   WA811FAAA344K1ANTH  \n",
       "1721   SJ883ELAA6E4O4ANTH  \n",
       "2873   MI351ELAANKYGMANTH  \n",
       "12116    MC881FAAUDOYANTH  \n",
       "3332     OR619ELACCR3ANTH  "
      ]
     },
     "execution_count": 8,
     "metadata": {},
     "output_type": "execute_result"
    }
   ],
   "source": [
    "productWithReviewCoreDF = productWithReviewDF.drop(['url'], axis=1)\n",
    "productWithReviewCoreDF.sample(5)"
   ]
  },
  {
   "cell_type": "code",
   "execution_count": 9,
   "metadata": {
    "collapsed": true
   },
   "outputs": [],
   "source": [
    "# select only product with review count > threshold\n",
    "THRESHOLD = 3\n",
    "productWithManyReviews = reviewWithProductCoreDF[['sku', 'user_fk']].groupby('sku').count()\n",
    "productWithManyReviews = productWithManyReviews[productWithManyReviews['user_fk'] >= THRESHOLD].index.tolist()\n",
    "\n",
    "# filter core DF\n",
    "finalProductDF = productWithReviewCoreDF[productWithReviewCoreDF['sku'].isin(productWithManyReviews)]\n",
    "finalReviewDF = reviewWithProductCoreDF[reviewWithProductCoreDF['sku'].isin(productWithManyReviews)]"
   ]
  },
  {
   "cell_type": "code",
   "execution_count": 10,
   "metadata": {
    "collapsed": true
   },
   "outputs": [],
   "source": [
    "# export\n",
    "finalReviewDF.to_csv('../data/lazada/clean/review.csv', index=False, encoding='utf-8')\n",
    "finalProductDF.to_csv('../data/lazada/clean/product.csv', index=False, encoding='utf-8')"
   ]
  },
  {
   "cell_type": "code",
   "execution_count": null,
   "metadata": {
    "collapsed": true
   },
   "outputs": [],
   "source": []
  }
 ],
 "metadata": {
  "kernelspec": {
   "display_name": "Python 3",
   "language": "python",
   "name": "python3"
  },
  "language_info": {
   "codemirror_mode": {
    "name": "ipython",
    "version": 3
   },
   "file_extension": ".py",
   "mimetype": "text/x-python",
   "name": "python",
   "nbconvert_exporter": "python",
   "pygments_lexer": "ipython3",
   "version": "3.6.2"
  }
 },
 "nbformat": 4,
 "nbformat_minor": 2
}
